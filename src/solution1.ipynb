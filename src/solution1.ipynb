{
 "cells": [
  {
   "cell_type": "code",
   "execution_count": 1,
   "metadata": {},
   "outputs": [],
   "source": [
    "# %% [markdown]\n",
    "# # Запуск проекта автодополнения текста из модулей с конфигурацией YAML"
   ]
  },
  {
   "cell_type": "code",
   "execution_count": 2,
   "metadata": {},
   "outputs": [],
   "source": [
    "# %%\n",
    "# --- Автоперезагрузка модулей при изменениях в коде ---\n",
    "%load_ext autoreload\n",
    "%autoreload 2"
   ]
  },
  {
   "cell_type": "code",
   "execution_count": 3,
   "metadata": {},
   "outputs": [
    {
     "name": "stderr",
     "output_type": "stream",
     "text": [
      "2025-09-14 17:22:10.714067: I tensorflow/core/platform/cpu_feature_guard.cc:210] This TensorFlow binary is optimized to use available CPU instructions in performance-critical operations.\n",
      "To enable the following instructions: AVX2 FMA, in other operations, rebuild TensorFlow with the appropriate compiler flags.\n"
     ]
    }
   ],
   "source": [
    "# %%\n",
    "# --- Импорты ---\n",
    "import os\n",
    "import torch\n",
    "import pandas as pd\n",
    "import matplotlib.pyplot as plt\n",
    "from sklearn.model_selection import train_test_split\n",
    "import numpy as np\n",
    "from data_utils import process_file_and_save, tokens_to_indices, pad_sequences_torch, compute_rouge\n",
    "from next_token_dataset import TextDataset\n",
    "from lstm_model import LSTMModel\n",
    "from eval_lstm import train_epoch, eval_epoch\n",
    "from transformers import pipeline, AutoTokenizer\n",
    "import re\n",
    "import yaml"
   ]
  },
  {
   "cell_type": "code",
   "execution_count": 5,
   "metadata": {},
   "outputs": [
    {
     "name": "stdout",
     "output_type": "stream",
     "text": [
      "Текущая рабочая директория: /home/assistant/text-autocomplete/src\n"
     ]
    }
   ],
   "source": [
    "# %%\n",
    "# --- Загрузка конфигурации из YAML ---\n",
    "with open('/home/assistant/text-autocomplete/config.yaml', 'r', encoding='utf-8') as f:\n",
    "    config = yaml.safe_load(f)\n",
    "print(\"Текущая рабочая директория:\", os.getcwd())"
   ]
  },
  {
   "cell_type": "code",
   "execution_count": 6,
   "metadata": {},
   "outputs": [
    {
     "name": "stdout",
     "output_type": "stream",
     "text": [
      "Используем устройство: cuda\n"
     ]
    }
   ],
   "source": [
    "# %%\n",
    "# --- Настройка устройства для вычислений (CPU/GPU) ---\n",
    "device_name = config['environment']['device']\n",
    "device = torch.device(device_name if torch.cuda.is_available() and device_name == 'cuda' else 'cpu')\n",
    "print(f\"Используем устройство: {device}\")"
   ]
  },
  {
   "cell_type": "code",
   "execution_count": 7,
   "metadata": {},
   "outputs": [],
   "source": [
    "# %%\n",
    "# --- Загрузка путей из конфига ---\n",
    "paths = config['project']['paths']\n",
    "input_file = paths['input_file']"
   ]
  },
  {
   "cell_type": "code",
   "execution_count": 8,
   "metadata": {},
   "outputs": [
    {
     "name": "stdout",
     "output_type": "stream",
     "text": [
      "Исходный набор данных сохранен в data/raw_dataset.csv\n",
      "Токенизированный набор данных сохранен в data/dataset_processed.csv\n"
     ]
    }
   ],
   "source": [
    "# %%\n",
    "# --- Обработка и подготовка данных ---\n",
    "samples = process_file_and_save(input_file)\n",
    "# Создание словаря токенов\n",
    "all_tokens = [token for sample in samples for token in sample['X']] + [token for sample in samples for token in sample['Y']]\n",
    "vocab = {token: idx + 1 for idx, token in enumerate(sorted(set(all_tokens)))}\n",
    "vocab_size = len(vocab) + 1\n",
    "# Индексация и паддинг\n",
    "X_indices, Y_indices = tokens_to_indices(samples, vocab)\n",
    "max_len = max(len(x) for x in X_indices)\n",
    "X_pad = pad_sequences_torch(X_indices, max_len, torch)\n",
    "Y_pad = pad_sequences_torch(Y_indices, max_len, torch)"
   ]
  },
  {
   "cell_type": "code",
   "execution_count": 9,
   "metadata": {},
   "outputs": [
    {
     "name": "stdout",
     "output_type": "stream",
     "text": [
      "Файл обучающей выборки сохранён: /home/assistant/text-autocomplete/data/train.csv\n",
      "Файл валидационной выборки сохранён: /home/assistant/text-autocomplete/data/val.csv\n",
      "Файл тестовой выборки сохранён: /home/assistant/text-autocomplete/data/test.csv\n"
     ]
    }
   ],
   "source": [
    "# %%\n",
    "# --- Разделение выборок на train, validation и test + сохранение CSV ---\n",
    "split_cfg = config['dataset']['train_val_test_split']\n",
    "X_train, X_temp, Y_train, Y_temp = train_test_split(X_pad, Y_pad, test_size=split_cfg['val_size'], random_state=42)\n",
    "X_val, X_test, Y_val, Y_test = train_test_split(X_temp, Y_temp, test_size=split_cfg['test_size_within_val'], random_state=42)\n",
    "os.makedirs(paths['data_dir'], exist_ok=True)\n",
    "def tensor_to_str_list(tensor):\n",
    "    return [' '.join(map(str, seq.tolist())) for seq in tensor]\n",
    "pd.DataFrame({'X': tensor_to_str_list(X_train), 'Y': tensor_to_str_list(Y_train)}).to_csv(paths['train_data'], index=False, encoding=config['data_processing']['encoding'])\n",
    "print(f\"Файл обучающей выборки сохранён: {paths['train_data']}\")\n",
    "pd.DataFrame({'X': tensor_to_str_list(X_val), 'Y': tensor_to_str_list(Y_val)}).to_csv(paths['val_data'], index=False, encoding=config['data_processing']['encoding'])\n",
    "print(f\"Файл валидационной выборки сохранён: {paths['val_data']}\")\n",
    "pd.DataFrame({'X': tensor_to_str_list(X_test), 'Y': tensor_to_str_list(Y_test)}).to_csv(paths['test_data'], index=False, encoding=config['data_processing']['encoding'])\n",
    "print(f\"Файл тестовой выборки сохранён: {paths['test_data']}\")"
   ]
  },
  {
   "cell_type": "code",
   "execution_count": 10,
   "metadata": {},
   "outputs": [],
   "source": [
    "# %%\n",
    "# --- Создание DataLoader для обучения и валидации ---\n",
    "batch_size = config['dataset']['batch_size']\n",
    "train_dataset = TextDataset(X_train, Y_train)\n",
    "val_dataset = TextDataset(X_val, Y_val)\n",
    "train_loader = torch.utils.data.DataLoader(train_dataset, batch_size=batch_size, shuffle=True)\n",
    "val_loader = torch.utils.data.DataLoader(val_dataset, batch_size=batch_size)\n"
   ]
  },
  {
   "cell_type": "code",
   "execution_count": 11,
   "metadata": {},
   "outputs": [],
   "source": [
    "# %%\n",
    "# --- Инициализация модели, функции потерь и оптимизатора ---\n",
    "lstm_cfg = config['model']['lstm']\n",
    "embedding_dim = lstm_cfg['embedding_dim']\n",
    "hidden_dim = lstm_cfg['hidden_dim']\n",
    "padding_idx = lstm_cfg['padding_idx']\n",
    "model = LSTMModel(vocab_size, embedding_dim, hidden_dim, padding_idx=padding_idx).to(device)  # Убедитесь в передаче padding_idx\n",
    "\n",
    "training_cfg = config['training']\n",
    "criterion = torch.nn.CrossEntropyLoss(ignore_index=training_cfg['loss_function']['ignore_index'])\n",
    "optimizer_cls = getattr(torch.optim, training_cfg['optimizer']['type'])\n",
    "optimizer = optimizer_cls(model.parameters(), **training_cfg['optimizer']['params'])"
   ]
  },
  {
   "cell_type": "code",
   "execution_count": 14,
   "metadata": {},
   "outputs": [
    {
     "name": "stdout",
     "output_type": "stream",
     "text": [
      "Epoch 1/10 - train_loss: 4.6503, val_loss: 4.8872\n",
      "Epoch 2/10 - train_loss: 4.6426, val_loss: 4.8871\n",
      "Epoch 3/10 - train_loss: 4.6359, val_loss: 4.8875\n",
      "Epoch 4/10 - train_loss: 4.6297, val_loss: 4.8870\n",
      "Epoch 5/10 - train_loss: 4.6243, val_loss: 4.8876\n",
      "Epoch 6/10 - train_loss: 4.6194, val_loss: 4.8876\n",
      "Epoch 7/10 - train_loss: 4.6146, val_loss: 4.8865\n",
      "Epoch 8/10 - train_loss: 4.6104, val_loss: 4.8876\n",
      "Epoch 9/10 - train_loss: 4.6065, val_loss: 4.8884\n",
      "Epoch 10/10 - train_loss: 4.6031, val_loss: 4.8894\n"
     ]
    }
   ],
   "source": [
    "# %%\n",
    "# --- Обучение и валидация модели ---\n",
    "epochs = training_cfg['epochs']\n",
    "train_losses = []\n",
    "val_losses = []\n",
    "for epoch in range(epochs):\n",
    "    train_loss = train_epoch(model, train_loader, criterion, optimizer, device)\n",
    "    val_loss = eval_epoch(model, val_loader, criterion, device)\n",
    "    train_losses.append(train_loss)\n",
    "    val_losses.append(val_loss)\n",
    "    if training_cfg['logging']['print_epoch_results']:\n",
    "        print(f\"Epoch {epoch+1}/{epochs} - train_loss: {train_loss:.4f}, val_loss: {val_loss:.4f}\")\n"
   ]
  },
  {
   "cell_type": "code",
   "execution_count": 15,
   "metadata": {},
   "outputs": [
    {
     "data": {
      "image/png": "[encoded data removed]",
      "text/plain": [
       "<Figure size 1000x600 with 1 Axes>"
      ]
     },
     "metadata": {},
     "output_type": "display_data"
    }
   ],
   "source": [
    "# %%\n",
    "# --- Построение графика потерь ---\n",
    "plot_cfg = config['output']['plots']\n",
    "plt.figure(figsize=plot_cfg['figsize'])\n",
    "plt.plot(range(1, epochs+1), train_losses, label='Train Loss')\n",
    "plt.plot(range(1, epochs+1), val_losses, label='Validation Loss')\n",
    "plt.xlabel(plot_cfg['xlabel'])\n",
    "plt.ylabel(plot_cfg['ylabel'])\n",
    "plt.title(plot_cfg['title'])\n",
    "if plot_cfg['legend']:\n",
    "    plt.legend()\n",
    "plt.show()"
   ]
  },
  {
   "cell_type": "code",
   "execution_count": 16,
   "metadata": {},
   "outputs": [
    {
     "name": "stdout",
     "output_type": "stream",
     "text": [
      "Модель сохранена по пути /home/assistant/text-autocomplete/models/model_lstm_weights.pth\n"
     ]
    }
   ],
   "source": [
    "# %%\n",
    "# --- Сохранение обученной модели ---\n",
    "os.makedirs(os.path.dirname(paths['model_weights']), exist_ok=True)\n",
    "torch.save(model.state_dict(), paths['model_weights'])\n",
    "print(f\"Модель сохранена по пути {paths['model_weights']}\")"
   ]
  },
  {
   "cell_type": "code",
   "execution_count": null,
   "metadata": {},
   "outputs": [
    {
     "name": "stdout",
     "output_type": "stream",
     "text": [
      "\n",
      "Пример генерации LSTM: \"Начало генерации текста\"\n",
      "<PAD> meadow ##ary to the first one i have to go to work tomorrow i have to go to work tomorrow and i have to go to work tomorrow and i\n"
     ]
    }
   ],
   "source": [
    "# %%\n",
    "# --- Пример генерации текста с LSTM-моделью ---\n",
    "\n",
    "def generate_text_lstm(model, start_text, vocab, max_len=50, device='cpu'):\n",
    "    model.eval()\n",
    "    idx_to_token = {idx: token for token, idx in vocab.items()}\n",
    "    idx_to_token[0] = '<PAD>'\n",
    "    tokens = [vocab.get(token, 0) for token in start_text.split()]\n",
    "    start_token = tokens[0] if tokens else 0\n",
    "    generated_ids = model.forward(torch.tensor([[start_token]], device=device), mode='generate', max_len=max_len, start_token=start_token)\n",
    "    generated_words = [idx_to_token.get(tok_id, '<UNK>') for tok_id in generated_ids]\n",
    "    return ' '.join(generated_words)\n",
    "\n",
    "start_seq = \"Начало генерации текста\"\n",
    "generated_lstm_text = generate_text_lstm(model, start_seq, vocab, max_len=30, device=device)\n",
    "print(f\"\\nПример генерации LSTM: \\\"{start_seq}\\\"\")\n",
    "print(generated_lstm_text)"
   ]
  },
  {
   "cell_type": "code",
   "execution_count": 50,
   "metadata": {},
   "outputs": [
    {
     "name": "stdout",
     "output_type": "stream",
     "text": [
      "Среднее ROUGE-1: 0.0402\n",
      "Среднее ROUGE-2: 0.0282\n"
     ]
    }
   ],
   "source": [
    "import torch\n",
    "from torch.utils.data import DataLoader, Dataset\n",
    "from rouge_score import rouge_scorer\n",
    "import numpy as np\n",
    "\n",
    "# Пример класса Dataset, разбивающего текст на input (3/4) и target (1/4)\n",
    "class TextDataset(Dataset):\n",
    "    def __init__(self, texts, vocab):\n",
    "        self.texts = texts\n",
    "        self.vocab = vocab\n",
    "        self.idx_to_token = {idx: token for token, idx in vocab.items()}\n",
    "\n",
    "    def __len__(self):\n",
    "        return len(self.texts)\n",
    "\n",
    "    def __getitem__(self, idx):\n",
    "        tokens = self.texts[idx].split()\n",
    "        split_idx = (len(tokens) * 3) // 4\n",
    "        input_tokens = tokens[:split_idx]\n",
    "        target_tokens = tokens[split_idx:]\n",
    "        input_ids = [self.vocab.get(tok, 0) for tok in input_tokens]\n",
    "        target_ids = [self.vocab.get(tok, 0) for tok in target_tokens]\n",
    "        return torch.tensor(input_ids), torch.tensor(target_ids)\n",
    "\n",
    "# Функция для подсчёта ROUGE\n",
    "def compute_rouge(reference, prediction):\n",
    "    scorer = rouge_scorer.RougeScorer(['rouge1', 'rouge2'], use_stemmer=True)\n",
    "    scores = scorer.score(reference, prediction)\n",
    "    return scores['rouge1'].fmeasure, scores['rouge2'].fmeasure\n",
    "\n",
    "# Функция оценки модели с использованием autocompletion\n",
    "def evaluate_model_rouge(model, dataloader, tokenizer, vocab, device='cpu', max_generate_len=50):\n",
    "    model.to(device)\n",
    "    model.eval()\n",
    "\n",
    "    idx_to_token = {idx: token for token, idx in vocab.items()}\n",
    "    rouge1_scores = []\n",
    "    rouge2_scores = []\n",
    "\n",
    "    with torch.no_grad():\n",
    "        for batch_inputs, batch_targets in dataloader:\n",
    "            batch_inputs = batch_inputs.to(device)\n",
    "            batch_targets = batch_targets.to(device)\n",
    "\n",
    "            for i in range(batch_inputs.size(0)):\n",
    "                input_ids = batch_inputs[i].unsqueeze(0)  # [1, seq_len]\n",
    "                target_ids = batch_targets[i]\n",
    "\n",
    "                # Преобразуем input_ids в seed_text через словарь\n",
    "                seed_text = ' '.join([idx_to_token.get(idx.item(), '<UNK>') for idx in input_ids[0]])\n",
    "\n",
    "                # Вызываем generate с правильной сигнатурой\n",
    "                generated_ids = model.generate(tokenizer, vocab, seed_text, max_length=max_generate_len)\n",
    "\n",
    "                # Перекодируем индексы в текст\n",
    "                generated_text = ' '.join([idx_to_token.get(tok, '<UNK>') for tok in generated_ids])\n",
    "                target_text = ' '.join([idx_to_token.get(tok.item(), '<UNK>') for tok in target_ids])\n",
    "\n",
    "                r1, r2 = compute_rouge(target_text, generated_text)\n",
    "                \n",
    "                rouge1_scores.append(r1)\n",
    "                rouge2_scores.append(r2)\n",
    "\n",
    "    avg_rouge1 = sum(rouge1_scores) / len(rouge1_scores) if rouge1_scores else 0.0\n",
    "    avg_rouge2 = sum(rouge2_scores) / len(rouge2_scores) if rouge2_scores else 0.0\n",
    "\n",
    "    return avg_rouge1, avg_rouge2\n",
    "\n",
    "# подготовка данных и вызов функции\n",
    "\n",
    "df = pd.read_csv('/home/assistant/text-autocomplete/data/raw_dataset.csv')\n",
    "sampled_df = df.sample(n=100, random_state=42)\n",
    "texts = sampled_df['text'].tolist()\n",
    "\n",
    "dataset = TextDataset(texts, vocab)\n",
    "dataloader = DataLoader(dataset, batch_size=256, shuffle=False, collate_fn=lambda x: (torch.nn.utils.rnn.pad_sequence([i[0] for i in x], batch_first=True),\n",
    "                                                                                    torch.nn.utils.rnn.pad_sequence([i[1] for i in x], batch_first=True)))\n",
    "\n",
    "device = torch.device('cuda' if torch.cuda.is_available() else 'cpu')\n",
    "\n",
    "tokenizer = AutoTokenizer.from_pretrained(\"bert-base-uncased\")\n",
    "avg_rouge1, avg_rouge2 = evaluate_model_rouge(model, dataloader, tokenizer, vocab, device=device, max_generate_len=50)\n",
    "\n",
    "\n",
    "print(f\"Среднее ROUGE-1: {avg_rouge1:.4f}\")\n",
    "print(f\"Среднее ROUGE-2: {avg_rouge2:.4f}\")\n"
   ]
  },
  {
   "cell_type": "code",
   "execution_count": 51,
   "metadata": {},
   "outputs": [
    {
     "name": "stderr",
     "output_type": "stream",
     "text": [
      "Device set to use cuda:0\n",
      "Setting `pad_token_id` to `eos_token_id`:50256 for open-end generation.\n"
     ]
    },
    {
     "name": "stdout",
     "output_type": "stream",
     "text": [
      "Оцениваем модель distilgpt2...\n"
     ]
    },
    {
     "name": "stderr",
     "output_type": "stream",
     "text": [
      "Setting `pad_token_id` to `eos_token_id`:50256 for open-end generation.\n",
      "Setting `pad_token_id` to `eos_token_id`:50256 for open-end generation.\n"
     ]
    },
    {
     "name": "stdout",
     "output_type": "stream",
     "text": [
      "\n",
      "Пример #1\n",
      "Вход: beautiful day for a tandem ribang blowout rear tire\n",
      "Эталон:  a mile from home\n",
      "distilgpt2 предсказание: , good look and a few good-looking camo/sport parts for the look.\n",
      "ROUGE-1: 0.118, ROUGE-2: 0.000\n",
      "\n",
      "Пример #2\n",
      "Вход: i wish i could get them\n",
      "Эталон:  but i cant\n",
      "distilgpt2 предсказание: , and will give them a chance to make it or else i will get them.\n",
      "ROUGE-1: 0.111, ROUGE-2: 0.000\n"
     ]
    },
    {
     "name": "stderr",
     "output_type": "stream",
     "text": [
      "Setting `pad_token_id` to `eos_token_id`:50256 for open-end generation.\n"
     ]
    },
    {
     "name": "stdout",
     "output_type": "stream",
     "text": [
      "\n",
      "Пример #3\n",
      "Вход: very bummed my favorite venue of all time glad that it\n",
      "Эталон:  was at 7 am\n",
      "distilgpt2 предсказание: 's a place for me to hang out with my friends and family - and I'm very happy that this place is just where I can hang out with my friends and family for a while. I'm looking forward to seeing it again, and I'm sure it'll be great to see it continue. Thanks for stopping by!\n",
      "ROUGE-1: 0.000, ROUGE-2: 0.000\n"
     ]
    },
    {
     "name": "stderr",
     "output_type": "stream",
     "text": [
      "Setting `pad_token_id` to `eos_token_id`:50256 for open-end generation.\n"
     ]
    },
    {
     "name": "stdout",
     "output_type": "stream",
     "text": [
      "\n",
      "Пример #4\n",
      "Вход: indeed to the\n",
      "Эталон:  whole discussion\n",
      "distilgpt2 предсказание: point where the country was not in good shape, and of the future in which the world was not functioning.\n",
      "\n",
      "It was a very big mistake for the people of the country that it was too difficult to see the future. Not because many of us were trying to understand the problems, but because it was difficult to understand the vision of our country.\n",
      "We were aware of the problems, we had to get a better understanding of what is really happening and the problems. But we felt that we were having a very difficult time and that we were in good shape.\n",
      "But we were also aware that there was a huge gap in the way the country was functioning. We had to figure out how to fix it.\n",
      "Our country was struggling because we had to think about what might be the best way to solve the problem.\n",
      "But we were also aware that the government was being dragged on.\n",
      "We were aware that the government was having problems and that we were in great shape.\n",
      "With the government being dragged on, the new government has to be able to do things that have the potential to change the situation.\n",
      "But we were also aware that the government was being dragged on.\n",
      "Even if the government is not in good shape, we were not able to get\n",
      "ROUGE-1: 0.000, ROUGE-2: 0.000\n"
     ]
    },
    {
     "name": "stderr",
     "output_type": "stream",
     "text": [
      "Setting `pad_token_id` to `eos_token_id`:50256 for open-end generation.\n"
     ]
    },
    {
     "name": "stdout",
     "output_type": "stream",
     "text": [
      "\n",
      "Пример #5\n",
      "Вход: omg its almost 11 pm and im just now getting in\n",
      "Эталон:  bed tomorrows\n",
      "distilgpt2 предсказание: touch with me to talk about my friend, the new kid, the new lady, the new kid. I want her to know that I love her, I love her, I love her, I love her, I love her, I love her, I love her, I love her, I love her, I love her, I love her, I love her, I love her, I love her, I love her, I love her, I love her, I love her, I love her, I love her, I love her, I love her, I love her, I love her, I love her, I love her, I love her, I love her, I love her, I love her, I love her, I love her, I love her, I love her, I love her, I love her, I love her, I love her, I love her, I love her, I love her, I love her, I love her, I love her, I love her, I love her, I love her, I love her, I love her, I love her, I love her, I love her, I love her, I love her, I love her, I love her, I love her, I\n",
      "ROUGE-1: 0.000, ROUGE-2: 0.000\n"
     ]
    },
    {
     "name": "stderr",
     "output_type": "stream",
     "text": [
      "Setting `pad_token_id` to `eos_token_id`:50256 for open-end generation.\n",
      "Setting `pad_token_id` to `eos_token_id`:50256 for open-end generation.\n",
      "Setting `pad_token_id` to `eos_token_id`:50256 for open-end generation.\n",
      "Setting `pad_token_id` to `eos_token_id`:50256 for open-end generation.\n",
      "Setting `pad_token_id` to `eos_token_id`:50256 for open-end generation.\n",
      "Setting `pad_token_id` to `eos_token_id`:50256 for open-end generation.\n",
      "Setting `pad_token_id` to `eos_token_id`:50256 for open-end generation.\n",
      "Setting `pad_token_id` to `eos_token_id`:50256 for open-end generation.\n",
      "Setting `pad_token_id` to `eos_token_id`:50256 for open-end generation.\n",
      "Setting `pad_token_id` to `eos_token_id`:50256 for open-end generation.\n",
      "Setting `pad_token_id` to `eos_token_id`:50256 for open-end generation.\n",
      "Setting `pad_token_id` to `eos_token_id`:50256 for open-end generation.\n",
      "Setting `pad_token_id` to `eos_token_id`:50256 for open-end generation.\n",
      "Setting `pad_token_id` to `eos_token_id`:50256 for open-end generation.\n",
      "Setting `pad_token_id` to `eos_token_id`:50256 for open-end generation.\n",
      "Setting `pad_token_id` to `eos_token_id`:50256 for open-end generation.\n",
      "Setting `pad_token_id` to `eos_token_id`:50256 for open-end generation.\n",
      "Setting `pad_token_id` to `eos_token_id`:50256 for open-end generation.\n",
      "Setting `pad_token_id` to `eos_token_id`:50256 for open-end generation.\n",
      "Setting `pad_token_id` to `eos_token_id`:50256 for open-end generation.\n",
      "Setting `pad_token_id` to `eos_token_id`:50256 for open-end generation.\n",
      "Setting `pad_token_id` to `eos_token_id`:50256 for open-end generation.\n",
      "Setting `pad_token_id` to `eos_token_id`:50256 for open-end generation.\n",
      "Setting `pad_token_id` to `eos_token_id`:50256 for open-end generation.\n",
      "Setting `pad_token_id` to `eos_token_id`:50256 for open-end generation.\n",
      "Setting `pad_token_id` to `eos_token_id`:50256 for open-end generation.\n",
      "Setting `pad_token_id` to `eos_token_id`:50256 for open-end generation.\n",
      "Setting `pad_token_id` to `eos_token_id`:50256 for open-end generation.\n",
      "Setting `pad_token_id` to `eos_token_id`:50256 for open-end generation.\n",
      "Setting `pad_token_id` to `eos_token_id`:50256 for open-end generation.\n",
      "Setting `pad_token_id` to `eos_token_id`:50256 for open-end generation.\n",
      "Setting `pad_token_id` to `eos_token_id`:50256 for open-end generation.\n",
      "Setting `pad_token_id` to `eos_token_id`:50256 for open-end generation.\n",
      "Setting `pad_token_id` to `eos_token_id`:50256 for open-end generation.\n",
      "Setting `pad_token_id` to `eos_token_id`:50256 for open-end generation.\n",
      "Setting `pad_token_id` to `eos_token_id`:50256 for open-end generation.\n",
      "Setting `pad_token_id` to `eos_token_id`:50256 for open-end generation.\n",
      "Setting `pad_token_id` to `eos_token_id`:50256 for open-end generation.\n",
      "Setting `pad_token_id` to `eos_token_id`:50256 for open-end generation.\n",
      "Setting `pad_token_id` to `eos_token_id`:50256 for open-end generation.\n",
      "Setting `pad_token_id` to `eos_token_id`:50256 for open-end generation.\n",
      "Setting `pad_token_id` to `eos_token_id`:50256 for open-end generation.\n",
      "Setting `pad_token_id` to `eos_token_id`:50256 for open-end generation.\n",
      "Setting `pad_token_id` to `eos_token_id`:50256 for open-end generation.\n"
     ]
    },
    {
     "name": "stdout",
     "output_type": "stream",
     "text": [
      "\n",
      "Среднее ROUGE-1 distilgpt2: 0.018\n",
      "Среднее ROUGE-2 distilgpt2: 0.001\n"
     ]
    }
   ],
   "source": [
    "# %%\n",
    "# --- Оценка предобученной модели distilgpt2 с pipeline из transformers ---\n",
    "\n",
    "from transformers import pipeline, AutoTokenizer\n",
    "import re\n",
    "import numpy as np\n",
    "from sklearn.model_selection import train_test_split\n",
    "\n",
    "generator_distilgpt2 = pipeline(\n",
    "    \"text-generation\", \n",
    "    model=config['tokenizer']['distilgpt2_model_name'],\n",
    "    tokenizer=config['tokenizer']['distilgpt2_model_name']\n",
    ")\n",
    "\n",
    "tokenizer_distilgpt2 = AutoTokenizer.from_pretrained(config['tokenizer']['distilgpt2_model_name'])\n",
    "\n",
    "\n",
    "def split_text_for_completion(text):\n",
    "    # Явно указываем truncation=True при токенизации\n",
    "    tokens = tokenizer_distilgpt2.tokenize(text, max_length=16, truncation=True)\n",
    "    cut_off = (len(tokens) * 3) // 4\n",
    "    input_text = tokenizer_distilgpt2.convert_tokens_to_string(tokens[:cut_off])\n",
    "    target_text = tokenizer_distilgpt2.convert_tokens_to_string(tokens[cut_off:])\n",
    "    return input_text, target_text\n",
    "\n",
    "\n",
    "def clean_text_for_distilgpt2(text):\n",
    "    text = text.lower()\n",
    "    text = re.sub(config['data_processing']['clean_text_regex']['urls'], '', text)\n",
    "    text = re.sub(config['data_processing']['clean_text_regex']['mentions'], '', text)\n",
    "    text = re.sub(r'[^\\w\\sа-яёa-z]', '', text, flags=re.UNICODE)\n",
    "    text = re.sub(config['data_processing']['clean_text_regex']['whitespace'], ' ', text).strip()\n",
    "    return text\n",
    "\n",
    "\n",
    "texts = [clean_text_for_distilgpt2(t) for t in open(input_file, encoding=config['data_processing']['encoding']).readlines() if len(t.strip()) > 10]\n",
    "_, val_texts = train_test_split(texts, test_size=split_cfg['val_size'], random_state=42)\n",
    "\n",
    "\n",
    "rouge1_gpt2_scores, rouge2_gpt2_scores = [], []\n",
    "print(\"Оцениваем модель distilgpt2...\")\n",
    "max_examples = config['evaluation']['validation_samples_limit']\n",
    "print_limit = config['evaluation']['print_examples_limit']\n",
    "\n",
    "\n",
    "for idx, text in enumerate(val_texts[:max_examples]):\n",
    "    input_text, ref_text = split_text_for_completion(text)\n",
    "    # Определяем максимальную длину генерируемых токенов (можно ограничить отдельно)\n",
    "    max_new_tokens_gpt2 = 256 \n",
    "    gpt2_out = generator_distilgpt2(\n",
    "        input_text,\n",
    "        max_new_tokens=max_new_tokens_gpt2,\n",
    "        do_sample=config['model']['distilgpt2']['use_sampling'],\n",
    "        top_k=config['model']['distilgpt2']['top_k'],\n",
    "        num_return_sequences=config['model']['distilgpt2']['num_return_sequences'],\n",
    "        truncation=True  # Явное указание усечения при генерации\n",
    "    )\n",
    "    gpt2_pred = gpt2_out[0]['generated_text'][len(input_text):].strip()\n",
    "    r1_gpt2, r2_gpt2 = compute_rouge(ref_text, gpt2_pred)\n",
    "    rouge1_gpt2_scores.append(r1_gpt2)\n",
    "    rouge2_gpt2_scores.append(r2_gpt2)\n",
    "    if idx < print_limit:\n",
    "        print(f\"\\nПример #{idx+1}\")\n",
    "        print(\"Вход:\", input_text)\n",
    "        print(\"Эталон:\", ref_text)\n",
    "        print(f\"distilgpt2 предсказание: {gpt2_pred}\")\n",
    "        print(f\"ROUGE-1: {r1_gpt2:.3f}, ROUGE-2: {r2_gpt2:.3f}\")\n",
    "\n",
    "\n",
    "print(f\"\\nСреднее ROUGE-1 distilgpt2: {np.mean(rouge1_gpt2_scores):.3f}\")\n",
    "print(f\"Среднее ROUGE-2 distilgpt2: {np.mean(rouge2_gpt2_scores):.3f}\")\n"
   ]
  }
 ],
 "metadata": {
  "kernelspec": {
   "display_name": ".venv",
   "language": "python",
   "name": "python3"
  },
  "language_info": {
   "codemirror_mode": {
    "name": "ipython",
    "version": 3
   },
   "file_extension": ".py",
   "mimetype": "text/x-python",
   "name": "python",
   "nbconvert_exporter": "python",
   "pygments_lexer": "ipython3",
   "version": "3.13.5"
  }
 },
 "nbformat": 4,
 "nbformat_minor": 2
}
